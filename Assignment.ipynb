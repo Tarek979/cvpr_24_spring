{
 "cells": [
  {
   "cell_type": "code",
   "execution_count": 1,
   "id": "0f60b422-a903-456a-9850-b4cb0c9427ec",
   "metadata": {},
   "outputs": [
    {
     "name": "stdout",
     "output_type": "stream",
     "text": [
      "Sum of all elements in the list: 440\n"
     ]
    }
   ],
   "source": [
    "numbers = list(range(1, 11))\n",
    "\n",
    "squared_numbers = [num ** 2 for num in numbers]\n",
    "numbers.extend(squared_numbers)\n",
    "    \n",
    "total_sum = sum(numbers)\n",
    "print(\"Sum of all elements in the list:\", total_sum)    \n"
   ]
  },
  {
   "cell_type": "code",
   "execution_count": 2,
   "id": "df6b0b5f-d52e-4f5f-a060-1ce9e20d305d",
   "metadata": {},
   "outputs": [
    {
     "name": "stdout",
     "output_type": "stream",
     "text": [
      "Product of all elements in the tuple: 3840\n"
     ]
    }
   ],
   "source": [
    "even_numbers = (2, 4, 6, 8, 10)\n",
    "product = 1\n",
    "for num in even_numbers:\n",
    "    product *= num\n",
    "\n",
    "print(\"Product of all elements in the tuple:\", product)\n"
   ]
  },
  {
   "cell_type": "code",
   "execution_count": 3,
   "id": "1ad158be-347b-4d98-a2f8-3c8a6e2e9b04",
   "metadata": {},
   "outputs": [
    {
     "name": "stdout",
     "output_type": "stream",
     "text": [
      "Union of the two sets: {1, 3, 5, 7, 9}\n",
      "Intersection of the two sets: {1, 3, 5, 7}\n"
     ]
    }
   ],
   "source": [
    "odd_set1 = {1, 3, 5, 7, 9}\n",
    "odd_set2 = {1, 3, 5, 7}\n",
    "union_set = odd_set1.union(odd_set2)\n",
    "print(\"Union of the two sets:\", union_set)\n",
    "intersection_set = odd_set1.intersection(odd_set2)\n",
    "print(\"Intersection of the two sets:\", intersection_set)\n"
   ]
  },
  {
   "cell_type": "code",
   "execution_count": 4,
   "id": "beca7bfe-1aca-47fc-9489-6665c161856d",
   "metadata": {},
   "outputs": [
    {
     "name": "stdout",
     "output_type": "stream",
     "text": [
      "Dictionary with lowercase alphabets and their ASCII values:\n",
      "{'a': 97, 'b': 98, 'c': 99, 'd': 100, 'e': 101}\n"
     ]
    }
   ],
   "source": [
    "ascii_dict = {chr(i): ord(chr(i)) for i in range(ord('a'), ord('e') + 1)}\n",
    "\n",
    "\n",
    "print(\"Dictionary with lowercase alphabets and their ASCII values:\")\n",
    "print(ascii_dict)"
   ]
  },
  {
   "cell_type": "code",
   "execution_count": 5,
   "id": "c7e22ec3-9937-4674-b61b-5bd5ac4158d1",
   "metadata": {},
   "outputs": [
    {
     "name": "stdout",
     "output_type": "stream",
     "text": [
      "Original numbers: [1, 2, 3, 4, 5, 6, 7, 8, 9, 10]\n",
      "Squared numbers: [1, 4, 9, 16, 25, 36, 49, 64, 81, 100]\n"
     ]
    }
   ],
   "source": [
    "def square(x):\n",
    "    return x ** 2\n",
    "numbers = list(range(1, 11))\n",
    "squared_numbers = list(map(square, numbers))\n",
    "print(\"Original numbers:\", numbers)\n",
    "print(\"Squared numbers:\", squared_numbers)"
   ]
  },
  {
   "cell_type": "code",
   "execution_count": null,
   "id": "db308e16-8bc4-4ce2-ac88-dca2b2af7187",
   "metadata": {},
   "outputs": [],
   "source": []
  }
 ],
 "metadata": {
  "kernelspec": {
   "display_name": "Python 3 (ipykernel)",
   "language": "python",
   "name": "python3"
  },
  "language_info": {
   "codemirror_mode": {
    "name": "ipython",
    "version": 3
   },
   "file_extension": ".py",
   "mimetype": "text/x-python",
   "name": "python",
   "nbconvert_exporter": "python",
   "pygments_lexer": "ipython3",
   "version": "3.9.18"
  }
 },
 "nbformat": 4,
 "nbformat_minor": 5
}
